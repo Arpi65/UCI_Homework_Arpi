{
 "cells": [
  {
   "cell_type": "markdown",
   "metadata": {},
   "source": [
    "# WeatherPy\n",
    "----\n",
    "\n",
    "#### Note\n",
    "* Instructions have been included for each segment. You do not have to follow them exactly, but they are included to help you think through the steps."
   ]
  },
  {
   "cell_type": "code",
   "execution_count": 1,
   "metadata": {},
   "outputs": [
    {
     "name": "stdout",
     "output_type": "stream",
     "text": [
      "Requirement already satisfied: citipy in c:\\users\\arpib\\anaconda3\\envs\\pythondata\\lib\\site-packages (0.0.5)\n",
      "Requirement already satisfied: kdtree>=0.12 in c:\\users\\arpib\\anaconda3\\envs\\pythondata\\lib\\site-packages (from citipy) (0.16)\n"
     ]
    }
   ],
   "source": [
    "!pip install citipy"
   ]
  },
  {
   "cell_type": "code",
   "execution_count": 97,
   "metadata": {
    "scrolled": true
   },
   "outputs": [],
   "source": [
    "import matplotlib.pyplot as plt\n",
    "import requests\n",
    "import pandas as pd\n",
    "from config import weather_api_key\n",
    "import json\n",
    "import random\n",
    "from scipy import stats"
   ]
  },
  {
   "cell_type": "markdown",
   "metadata": {},
   "source": [
    "## Generate Cities List"
   ]
  },
  {
   "cell_type": "code",
   "execution_count": 98,
   "metadata": {},
   "outputs": [
    {
     "name": "stdout",
     "output_type": "stream",
     "text": [
      "1400\n",
      "1400\n"
     ]
    }
   ],
   "source": [
    "#selecting random coordinates\n",
    "lat1=random.sample(list(range(10,900)),700)\n",
    "long1=random.sample(list(range(10,1800)),700)\n",
    "#to cover west and south\n",
    "long2=[element*(-1) for element in long1]\n",
    "lat2=[element*(-1) for element in lat1]\n",
    "lat3=lat1+lat2\n",
    "long3=long1+long2\n",
    "lat=[element/10 for element in lat3]\n",
    "long=[element/10 for element in long3]\n",
    "print(len(lat))\n",
    "print(len(long))"
   ]
  },
  {
   "cell_type": "code",
   "execution_count": 17,
   "metadata": {
    "scrolled": true
   },
   "outputs": [
    {
     "name": "stdout",
     "output_type": "stream",
     "text": [
      "522\n",
      "['Umm Lajj', 'Jieshou', 'Balabac', 'Marawi', 'Shenjiamen', 'Pulgaon', 'Abha', 'Stavern', 'Srednekolymsk', 'Gazli', 'Belushya Guba', 'Biak', 'Jiwani', 'Belaya Gora', 'Yian', 'Kashi', 'Lakselv', 'Safwah', 'Phonhong', 'Nizhneyansk', 'Yumen', 'Airai', 'Barentsburg', 'Salalah', 'Hasaki', 'Krasnohrad', 'Cherskiy', 'Nikolskoye', 'Dmitriyevskaya', 'Khatanga', 'Bereslavka', 'Kisangani', 'Severo-Kurilsk', 'Vardo', 'Itoman', 'Tessalit', 'Bad Bevensen', 'Deputatskiy', 'Yairipok', 'Cabra', 'Jinxiang', 'Kribi', 'Qesarya', 'Mirnyy', 'Nizwa', 'Awbari', 'Naze', 'Amderma', 'Tukrah', 'Izumo', 'Novikovo', 'Huilong', 'Anapskaya', 'At-Bashi', 'Krasnoselkup', 'Skiros', 'Gravdal', 'Vanimo', 'Arlit', 'Butaritari', 'Zhigalovo', 'Minsk', 'Damghan', 'Leningradskiy', 'Marihatag', 'Tromso', 'Dikson', 'Police', 'Suifenhe', 'Kungurtug', 'Katsuura', 'Hambantota', 'Qabis', 'Pundaguitan', 'Evensk', 'Gat', 'Watsa', 'Vostok', 'Kazanka', 'Longyearbyen', 'Rognan', 'Chifeng', 'Labutta', 'San Julian', 'Tiksi', 'Farah', 'Impfondo', 'Mehamn', 'Ust-Nera', 'Vrbove', 'Dumka', 'Verkhoshizhemye', 'Dawei', 'Tilichiki', 'Saskylakh', 'Nsukka', 'Haibowan', 'Constantine', 'Ravar', 'Usinsk', 'Yarada', 'Vanavara', 'Ust-Tsilma', 'Ostrovnoy', 'Lorengau', 'Bud', 'Wulanhaote', 'Fakel', 'Dharchula', 'Barbar', 'Hami', 'Shieli', 'Yatou', 'Glinishchevo', 'Kavieng', 'Romitan', 'Tumannyy', 'Talnakh', 'Lashio', 'Yantal', 'Belomorsk', 'Shizunai', 'Illela', 'Khandyga', 'Teseney', 'Baswa', 'Aleksandriya', 'Artyk', 'Hoi An', 'Jiaocheng', 'Miri', 'Shujalpur', 'Abonnema', 'Ulaanbaatar', 'Eldikan', 'Bose', 'Rach Gia', 'Lawan Kuda Baharu', 'Baykit', 'Chagda', 'Arys', 'Beringovskiy', 'Chokurdakh', 'Labytnangi', 'Pingliang', 'Pakokku', 'Komsomolskiy', 'Sofiysk', 'Hobyo', 'Zermatt', 'Hohhot', 'Karauzyak', 'Moron', 'Wangqing', 'Shimoda', 'Pevek', 'El Balyana', 'Sentyabrskiy', 'Trincomalee', 'Liepaja', 'Jieshi', 'Bang Saphan', 'Kommunisticheskiy', 'Pakxan', 'Ola', 'Totma', 'Baiyin', 'Dwarka', 'Nishihara', 'Marsa Matruh', 'Xuanhua', 'Bosaso', 'Kavaratti', 'Banda Aceh', 'Lafia', 'Korla', 'Kapoeta', 'Sorland', 'Hithadhoo', 'Tateyama', 'Tura', 'Talagang', 'Jalu', 'Tuy Hoa', 'Kyra', 'Kishtwar', 'Ribnitz-Damgarten', 'Sterlitamak', 'Abu Dhabi', 'Port Blair', 'Ngaoundere', 'Svetlogorsk', 'Aswan', 'Vizinga', 'Ternate', 'Comrat', 'Namatanai', 'Cartagena', 'Yekaterinovka', 'Gasa', 'Mezen', 'Orda', 'Mandalgovi', 'Ayan', 'Chalakudi', 'Dzhusaly', 'Lensk', 'Tomohon', 'Yar-Sale', 'Zonalnoye', 'Fort-Shevchenko', 'Jasdan', 'Nalgonda', 'Luba', 'Kalmunai', 'Aykhal', 'Bischofshofen', 'Asosa', 'Sobolevo', 'Imeni Zhelyabova', 'Rongcheng', 'Latung', 'Lasa', 'Marzuq', 'Ziarat', 'Rafai', 'Guozhen', 'Wuchang', 'Najran', 'Platonovka', 'Rudnyy', 'Sadasivpet', 'Hirna', 'Berlevag', 'Liaozhong', 'Ruwi', 'Churapcha', 'Nam Tha', 'Hirara', 'Lianzhou', 'Suileng', 'Sadovo', 'Skalistyy', 'Debre Tabor', 'Wamba', 'Bagdarin', 'Sur', 'Suoyarvi', 'Yokadouma', 'Harboore', 'Maralal', 'Shitanjing', 'Bojnurd', 'Kajaani', 'Jega', 'Dudinka', 'Verkhoyansk', 'Aloleng', 'Mizpe Ramon', 'Troitskoye', 'Milove', 'Ishigaki', 'Riyadh', 'Hailar', 'Turochak', 'Honningsvag', 'Nemuro', 'Tanggu', 'Bakchar', 'Bac Lieu', 'Buraydah', 'Lagos', 'Doha', 'Gurgan', 'Okhotsk', 'Zhigansk', 'Kalety', 'Vanino', 'Anadyr', 'Puerto Princesa', 'Elverum', 'Kurmanayevka', 'Cam Pha', 'Ginda', 'Fevralsk', 'Manavalakurichi', 'Kilifarevo', 'Saryshagan', 'Pokhara', 'Maarianhamina', 'Rovenki', 'Palaikastron', 'Geesthacht', 'Bay-Khaak', 'Uspenka', 'Brekstad', 'Abatskoye', 'Yaan', 'Zhuozhou', 'Faya', 'Bargal', 'Dongli', 'Bekescsaba', 'Gra Liyia', 'Mizdah', 'Lishui', 'Disna', 'Aginskoye', 'Carbonia', 'Muzhi', 'Herat', 'Yurty', 'Bratsk', 'Hollola', 'Sile', 'Jahangirpur', 'Tashla', 'Basoko', 'Sochi', 'Lipin Bor', 'Vung Tau', 'Tazmalt', 'Eyl', 'Neryungri', 'Orlik', 'Semey', 'Belyy Yar', 'Kamaishi', 'Amga', 'Silistea', 'Kozhva', 'Dukat', 'Turayf', 'Almaznyy', 'Agirish', 'Kamenskoye', 'Koppal', 'Genhe', 'Patti', 'Belaya Kholunitsa', 'Palanga', 'Am Timan', 'Toktogul', 'Povenets', 'Fugen', 'Yalutorovsk', 'Olovyannaya', 'Beian', 'Matara', 'Kargasok', 'Karacakoy', 'Beyneu', 'Yanchukan', 'Furukawa', 'Tarapur', 'Plyussa', 'Pionerskiy', 'Santa Eulalia Del Rio', 'Astipalaia', 'Chegdomyn', 'Novosheshminsk', 'Benha', 'Phan Thiet', 'Iskateley', 'Gushikawa', 'Turukhansk', 'Boguchany', 'Trapani', 'Wattegama', 'Kozelsk', 'Chernyshevskiy', 'Yasnyy', 'Sakakah', 'Ranong', 'Udimskiy', 'Ust-Koksa', 'Sayyan', 'Nivala', 'Yining', 'Tezu', 'Kantang', 'Hun', 'Okha', 'Saravan', 'Joura', 'Pleshanovo', 'Surt', 'Cao Bang', 'Zhangye', 'Indija', 'Sucevita', 'Tadpatri', 'Zhoucheng', 'Wum', 'Hakkari', 'Tartus', 'Kamenka', 'Neyvo-Shaytanskiy', 'Kiruna', 'Phayakkhaphum Phisai', 'Kara-Tyube', 'Karakol', 'Nong Khai', 'Soloneshnoye', 'Verkhnyaya Inta', 'Pathein', 'Maloshuyka', 'Leh', 'Teya', 'Westerland', 'Maloyaroslavets', 'Umarkot', 'Vagamo', 'Arraial Do Cabo', 'Rikitea', 'Atuona', 'Caravelas', 'Marcona', 'Serro', 'Cape Town', 'Mataura', 'Viedma', 'Ushuaia', 'Doctor Pedro P. Pena', 'Carahue', 'Mar Del Plata', 'Sao Joao Batista', 'Puerto Ayora', 'Ancud', 'Hermanus', 'Cassilandia', 'Chuy', 'Vaini', 'Punta Arenas', 'Touros', 'Alofi', 'Jamestown', 'Pisco', 'Georgetown', 'Pedro Juan Caballero', 'Avarua', 'Cidreira', 'Castro', 'Maldonado', 'Avera', 'San Cristobal', 'San Francisco', 'Samatau', 'Tacuarembo', 'Faanui', 'Lebu', 'Trelew', 'Tiarei', 'Belmonte', 'Coquimbo', 'Rio Do Sul', 'Antofagasta', 'Harper', 'Saleaula', 'San Carlos De Bariloche', 'Hualmay', 'Bom Jardim', 'Moerai', 'Saldanha', 'Vila Velha', 'Chicama', 'Tarabuco', 'Sao Joao Da Barra', 'Palmas', 'Santa Rosa', 'Natal', 'Puerto Leguizamo', 'Tautira', 'Valparaiso', 'Fare', 'Pangoa', 'Constitucion', 'Capitan Bado', 'Nortelandia', 'Mazamari', 'Samusu', 'Yanacancha', 'Rawson', 'Tocopilla', 'Aparecida Do Taboado', 'Maragogi', 'La Rioja', 'Mirabela', 'Casa Nova', 'Benjamin Aceval', 'Entre Rios', 'Villamontes', 'Aquiraz', 'Vaitupu', 'Severinia', 'Sao Sebastiao', 'Axim', 'Pauini', 'Puerto Pinasco', 'Laguna', 'Necochea', 'Medeiros Neto', 'Chazuta', 'Coihaique', 'Vilhena', 'Alta Floresta', 'Parana', 'General Pico', 'Rolim De Moura', 'Ipameri', 'Altamira', 'Ovalle', 'Salinas', 'Iquique', 'Talara', 'Comodoro Rivadavia', 'Buritis', 'Montes Altos', 'Hihifo', 'Taltal', 'Rocha', 'Itupiranga']\n"
     ]
    }
   ],
   "source": [
    "#selecting 500 random cities based on latitute and Longtitude \n",
    "from citipy import citipy\n",
    "number=range(0,len(long))\n",
    "city_list=[]\n",
    "#use citipy to get the city names for generated Latitudes and Longtitudes \n",
    "for x in number:\n",
    "    city = citipy.nearest_city(lat[x],long[x])\n",
    "    name=city.city_name\n",
    "    city_list.append(name)\n",
    "#create a frame to use unique function\n",
    "citydf=pd.DataFrame(city_list,columns=[\"citynames\"])\n",
    "\n",
    "city_list1=citydf[\"citynames\"].unique()\n",
    "# convert into titlecase and the list is ready\n",
    "city_list=[element.title() for element in city_list1]\n",
    "\n",
    "print(len(city_list))\n",
    "\n",
    "print(city_list)\n"
   ]
  },
  {
   "cell_type": "code",
   "execution_count": 30,
   "metadata": {},
   "outputs": [
    {
     "name": "stdout",
     "output_type": "stream",
     "text": [
      "{\n",
      "    \"cod\": \"200\",\n",
      "    \"count\": 5,\n",
      "    \"list\": [\n",
      "        {\n",
      "            \"clouds\": {\n",
      "                \"all\": 90\n",
      "            },\n",
      "            \"coord\": {\n",
      "                \"lat\": 51.5085,\n",
      "                \"lon\": -0.1257\n",
      "            },\n",
      "            \"dt\": 1603044708,\n",
      "            \"id\": 2643743,\n",
      "            \"main\": {\n",
      "                \"feels_like\": 282.28,\n",
      "                \"humidity\": 62,\n",
      "                \"pressure\": 1023,\n",
      "                \"temp\": 284.28,\n",
      "                \"temp_max\": 285.37,\n",
      "                \"temp_min\": 283.15\n",
      "            },\n",
      "            \"name\": \"London\",\n",
      "            \"rain\": null,\n",
      "            \"snow\": null,\n",
      "            \"sys\": {\n",
      "                \"country\": \"GB\"\n",
      "            },\n",
      "            \"weather\": [\n",
      "                {\n",
      "                    \"description\": \"overcast clouds\",\n",
      "                    \"icon\": \"04n\",\n",
      "                    \"id\": 804,\n",
      "                    \"main\": \"Clouds\"\n",
      "                }\n",
      "            ],\n",
      "            \"wind\": {\n",
      "                \"deg\": 120,\n",
      "                \"speed\": 1\n",
      "            }\n",
      "        },\n",
      "        {\n",
      "            \"clouds\": {\n",
      "                \"all\": 90\n",
      "            },\n",
      "            \"coord\": {\n",
      "                \"lat\": 42.9834,\n",
      "                \"lon\": -81.233\n",
      "            },\n",
      "            \"dt\": 1603044926,\n",
      "            \"id\": 6058560,\n",
      "            \"main\": {\n",
      "                \"feels_like\": 280.04,\n",
      "                \"humidity\": 71,\n",
      "                \"pressure\": 1019,\n",
      "                \"temp\": 284.82,\n",
      "                \"temp_max\": 285.37,\n",
      "                \"temp_min\": 283.71\n",
      "            },\n",
      "            \"name\": \"London\",\n",
      "            \"rain\": null,\n",
      "            \"snow\": null,\n",
      "            \"sys\": {\n",
      "                \"country\": \"CA\"\n",
      "            },\n",
      "            \"weather\": [\n",
      "                {\n",
      "                    \"description\": \"overcast clouds\",\n",
      "                    \"icon\": \"04d\",\n",
      "                    \"id\": 804,\n",
      "                    \"main\": \"Clouds\"\n",
      "                }\n",
      "            ],\n",
      "            \"wind\": {\n",
      "                \"deg\": 180,\n",
      "                \"speed\": 5.7\n",
      "            }\n",
      "        },\n",
      "        {\n",
      "            \"clouds\": {\n",
      "                \"all\": 90\n",
      "            },\n",
      "            \"coord\": {\n",
      "                \"lat\": 39.8865,\n",
      "                \"lon\": -83.4483\n",
      "            },\n",
      "            \"dt\": 1603044895,\n",
      "            \"id\": 4517009,\n",
      "            \"main\": {\n",
      "                \"feels_like\": 279.75,\n",
      "                \"humidity\": 93,\n",
      "                \"pressure\": 1022,\n",
      "                \"temp\": 282.35,\n",
      "                \"temp_max\": 283.15,\n",
      "                \"temp_min\": 282.04\n",
      "            },\n",
      "            \"name\": \"London\",\n",
      "            \"rain\": null,\n",
      "            \"snow\": null,\n",
      "            \"sys\": {\n",
      "                \"country\": \"US\"\n",
      "            },\n",
      "            \"weather\": [\n",
      "                {\n",
      "                    \"description\": \"overcast clouds\",\n",
      "                    \"icon\": \"04d\",\n",
      "                    \"id\": 804,\n",
      "                    \"main\": \"Clouds\"\n",
      "                }\n",
      "            ],\n",
      "            \"wind\": {\n",
      "                \"deg\": 170,\n",
      "                \"speed\": 3.1\n",
      "            }\n",
      "        },\n",
      "        {\n",
      "            \"clouds\": {\n",
      "                \"all\": 90\n",
      "            },\n",
      "            \"coord\": {\n",
      "                \"lat\": 37.129,\n",
      "                \"lon\": -84.0833\n",
      "            },\n",
      "            \"dt\": 1603044889,\n",
      "            \"id\": 4298960,\n",
      "            \"main\": {\n",
      "                \"feels_like\": 286.61,\n",
      "                \"humidity\": 51,\n",
      "                \"pressure\": 1024,\n",
      "                \"temp\": 289.63,\n",
      "                \"temp_max\": 290.15,\n",
      "                \"temp_min\": 289.15\n",
      "            },\n",
      "            \"name\": \"London\",\n",
      "            \"rain\": null,\n",
      "            \"snow\": null,\n",
      "            \"sys\": {\n",
      "                \"country\": \"US\"\n",
      "            },\n",
      "            \"weather\": [\n",
      "                {\n",
      "                    \"description\": \"overcast clouds\",\n",
      "                    \"icon\": \"04d\",\n",
      "                    \"id\": 804,\n",
      "                    \"main\": \"Clouds\"\n",
      "                }\n",
      "            ],\n",
      "            \"wind\": {\n",
      "                \"deg\": 180,\n",
      "                \"speed\": 3.1\n",
      "            }\n",
      "        },\n",
      "        {\n",
      "            \"clouds\": {\n",
      "                \"all\": 0\n",
      "            },\n",
      "            \"coord\": {\n",
      "                \"lat\": 36.4761,\n",
      "                \"lon\": -119.4432\n",
      "            },\n",
      "            \"dt\": 1603044915,\n",
      "            \"id\": 5367815,\n",
      "            \"main\": {\n",
      "                \"feels_like\": 300.39,\n",
      "                \"humidity\": 34,\n",
      "                \"pressure\": 1017,\n",
      "                \"temp\": 300.95,\n",
      "                \"temp_max\": 301.48,\n",
      "                \"temp_min\": 300.15\n",
      "            },\n",
      "            \"name\": \"London\",\n",
      "            \"rain\": null,\n",
      "            \"snow\": null,\n",
      "            \"sys\": {\n",
      "                \"country\": \"US\"\n",
      "            },\n",
      "            \"weather\": [\n",
      "                {\n",
      "                    \"description\": \"clear sky\",\n",
      "                    \"icon\": \"01d\",\n",
      "                    \"id\": 800,\n",
      "                    \"main\": \"Clear\"\n",
      "                }\n",
      "            ],\n",
      "            \"wind\": {\n",
      "                \"deg\": 169,\n",
      "                \"speed\": 1.06\n",
      "            }\n",
      "        }\n",
      "    ],\n",
      "    \"message\": \"accurate\"\n",
      "}\n"
     ]
    }
   ],
   "source": [
    "base_url=f\"http://api.openweathermap.org/data/2.5/find?q=London&appid={weather_api_key}\"\n",
    "response=requests.get(base_url)\n",
    "data1=response.json()\n",
    "print(json.dumps(data1,indent=4 ,sort_keys=True))\n",
    "\n"
   ]
  },
  {
   "cell_type": "code",
   "execution_count": 31,
   "metadata": {},
   "outputs": [
    {
     "name": "stdout",
     "output_type": "stream",
     "text": [
      "62\n",
      "284.28\n",
      "51.5085\n",
      "London\n",
      "1\n",
      "90\n"
     ]
    }
   ],
   "source": [
    "print(data1[\"list\"][0][\"main\"][\"humidity\"])\n",
    "\n",
    "\n",
    "print(data1[\"list\"][0][\"main\"][\"temp\"])\n",
    "print(data1[\"list\"][0][\"coord\"][\"lat\"])\n",
    "print(data1[\"list\"][0][\"name\"])\n",
    "print(data1[\"list\"][0][\"wind\"][\"speed\"])\n",
    "print(data1[\"list\"][0][\"clouds\"][\"all\"])\n",
    "\n"
   ]
  },
  {
   "cell_type": "code",
   "execution_count": 99,
   "metadata": {},
   "outputs": [
    {
     "name": "stdout",
     "output_type": "stream",
     "text": [
      "Belushya Guba has no data\n",
      "Yian has no data\n",
      "Safwah has no data\n",
      "Nizhneyansk has no data\n",
      "Barentsburg has no data\n",
      "Amderma has no data\n",
      "Skiros has no data\n",
      "Qabis has no data\n",
      "Labutta has no data\n",
      "Haibowan has no data\n",
      "Wulanhaote has no data\n",
      "Barbar has no data\n",
      "Tumannyy has no data\n",
      "Artyk has no data\n",
      "Eldikan has no data\n",
      "Lawan Kuda Baharu has no data\n",
      "Chagda has no data\n",
      "Sofiysk has no data\n",
      "Karauzyak has no data\n",
      "El Balyana has no data\n",
      "Sentyabrskiy has no data\n",
      "Dzhusaly has no data\n",
      "Zonalnoye has no data\n",
      "Nam Tha has no data\n",
      "Skalistyy has no data\n",
      "Mizpe Ramon has no data\n",
      "Gurgan has no data\n",
      "Cam Pha has no data\n",
      "Fevralsk has no data\n",
      "Saryshagan has no data\n",
      "Zhuozhou has no data\n",
      "Bargal has no data\n",
      "Kamenskoye has no data\n",
      "Yanchukan has no data\n",
      "Santa Eulalia Del Rio has no data\n",
      "Astipalaia has no data\n",
      "Benha has no data\n",
      "Maloshuyka has no data\n",
      "Marcona has no data\n",
      "Doctor Pedro P. Pena has no data\n",
      "Samatau has no data\n",
      "Saleaula has no data\n",
      "Samusu has no data\n",
      "Vaitupu has no data\n",
      "Puerto Pinasco has no data\n",
      "Rolim De Moura has no data\n",
      "Hihifo has no data\n"
     ]
    }
   ],
   "source": [
    "#performing call on API\n",
    "temp=[]\n",
    "humidity=[]\n",
    "latitude=[]\n",
    "longtitude=[]\n",
    "name=[]\n",
    "wind=[]\n",
    "clouds=[]\n",
    "#city_listtry=[\"London\",\"Glendora\",\"Umm Lajj\"]\n",
    "for c in city_list:\n",
    "    try:\n",
    "        base_url=f\"http://api.openweathermap.org/data/2.5/find?q={c}&appid={weather_api_key}\"\n",
    "#http://api.openweathermap.org/data/2.5/find?q=London&appid={weather_api_key}?\n",
    "        response=requests.get(base_url)\n",
    "        data=response.json()\n",
    "        #print(base_url)\n",
    "        humidity.append(data[\"list\"][0][\"main\"][\"humidity\"])\n",
    "        temp.append(data[\"list\"][0][\"main\"][\"temp\"])\n",
    "        latitude.append(data[\"list\"][0][\"coord\"][\"lat\"])\n",
    "        longtitude.append(data[\"list\"][0][\"coord\"][\"lon\"])\n",
    "        name.append(data[\"list\"][0][\"name\"])\n",
    "        wind.append(data[\"list\"][0][\"wind\"][\"speed\"])\n",
    "        clouds.append(data[\"list\"][0][\"clouds\"][\"all\"])\n",
    "    except IndexError:\n",
    "        print(f\"{c} has no data\")\n",
    "    "
   ]
  },
  {
   "cell_type": "markdown",
   "metadata": {},
   "source": [
    "### Perform API Calls\n",
    "* Perform a weather check on each city using a series of successive API calls.\n",
    "* Include a print log of each city as it'sbeing processed (with the city number and city name).\n"
   ]
  },
  {
   "cell_type": "code",
   "execution_count": 104,
   "metadata": {
    "scrolled": true
   },
   "outputs": [
    {
     "name": "stdout",
     "output_type": "stream",
     "text": [
      "475\n",
      "475\n",
      "475\n",
      "475\n",
      "475\n",
      "475\n",
      "475\n"
     ]
    }
   ],
   "source": [
    "#Convert Raw Data to DataFrame\n",
    "#Export the city into .csv\n",
    "#diplay data frame\n",
    "print(len(name))\n",
    "print(len(humidity))\n",
    "print(len(wind))\n",
    "print(len(clouds))\n",
    "print(len(latitude))\n",
    "print(len(longtitude))\n",
    "print(len(temp))\n",
    "datadict={\"city_name\":name,\"temperature\":temp,\"humidity\":humidity,\"wind_speed\":wind,\"cloudiness\":clouds,\"latitude\":latitude,\"longtitude\":longtitude}\n",
    "df=pd.DataFrame(datadict)\n"
   ]
  },
  {
   "cell_type": "markdown",
   "metadata": {},
   "source": [
    "### Convert Raw Data to DataFrame\n",
    "* Export the city data into a .csv.\n",
    "* Display the DataFrame"
   ]
  },
  {
   "cell_type": "code",
   "execution_count": 105,
   "metadata": {},
   "outputs": [],
   "source": [
    "df.to_csv(\"output.csv\")"
   ]
  },
  {
   "cell_type": "code",
   "execution_count": 106,
   "metadata": {},
   "outputs": [
    {
     "data": {
      "text/html": [
       "<div>\n",
       "<style scoped>\n",
       "    .dataframe tbody tr th:only-of-type {\n",
       "        vertical-align: middle;\n",
       "    }\n",
       "\n",
       "    .dataframe tbody tr th {\n",
       "        vertical-align: top;\n",
       "    }\n",
       "\n",
       "    .dataframe thead th {\n",
       "        text-align: right;\n",
       "    }\n",
       "</style>\n",
       "<table border=\"1\" class=\"dataframe\">\n",
       "  <thead>\n",
       "    <tr style=\"text-align: right;\">\n",
       "      <th></th>\n",
       "      <th>city_name</th>\n",
       "      <th>temperature</th>\n",
       "      <th>humidity</th>\n",
       "      <th>wind_speed</th>\n",
       "      <th>cloudiness</th>\n",
       "      <th>latitude</th>\n",
       "      <th>longtitude</th>\n",
       "    </tr>\n",
       "  </thead>\n",
       "  <tbody>\n",
       "    <tr>\n",
       "      <th>0</th>\n",
       "      <td>Umluj</td>\n",
       "      <td>302.30</td>\n",
       "      <td>40</td>\n",
       "      <td>2.20</td>\n",
       "      <td>0</td>\n",
       "      <td>25.0213</td>\n",
       "      <td>37.2685</td>\n",
       "    </tr>\n",
       "    <tr>\n",
       "      <th>1</th>\n",
       "      <td>Jieshou</td>\n",
       "      <td>286.04</td>\n",
       "      <td>71</td>\n",
       "      <td>1.56</td>\n",
       "      <td>82</td>\n",
       "      <td>33.2634</td>\n",
       "      <td>115.3611</td>\n",
       "    </tr>\n",
       "    <tr>\n",
       "      <th>2</th>\n",
       "      <td>Balabac</td>\n",
       "      <td>300.96</td>\n",
       "      <td>77</td>\n",
       "      <td>4.76</td>\n",
       "      <td>100</td>\n",
       "      <td>7.9868</td>\n",
       "      <td>117.0645</td>\n",
       "    </tr>\n",
       "    <tr>\n",
       "      <th>3</th>\n",
       "      <td>Marawi</td>\n",
       "      <td>297.04</td>\n",
       "      <td>91</td>\n",
       "      <td>2.24</td>\n",
       "      <td>100</td>\n",
       "      <td>7.9986</td>\n",
       "      <td>124.2928</td>\n",
       "    </tr>\n",
       "    <tr>\n",
       "      <th>4</th>\n",
       "      <td>Shenjiamen</td>\n",
       "      <td>292.07</td>\n",
       "      <td>66</td>\n",
       "      <td>7.05</td>\n",
       "      <td>55</td>\n",
       "      <td>29.9576</td>\n",
       "      <td>122.2980</td>\n",
       "    </tr>\n",
       "  </tbody>\n",
       "</table>\n",
       "</div>"
      ],
      "text/plain": [
       "    city_name  temperature  humidity  wind_speed  cloudiness  latitude  \\\n",
       "0       Umluj       302.30        40        2.20           0   25.0213   \n",
       "1     Jieshou       286.04        71        1.56          82   33.2634   \n",
       "2     Balabac       300.96        77        4.76         100    7.9868   \n",
       "3      Marawi       297.04        91        2.24         100    7.9986   \n",
       "4  Shenjiamen       292.07        66        7.05          55   29.9576   \n",
       "\n",
       "   longtitude  \n",
       "0     37.2685  \n",
       "1    115.3611  \n",
       "2    117.0645  \n",
       "3    124.2928  \n",
       "4    122.2980  "
      ]
     },
     "execution_count": 106,
     "metadata": {},
     "output_type": "execute_result"
    }
   ],
   "source": [
    "df.head()"
   ]
  },
  {
   "cell_type": "markdown",
   "metadata": {},
   "source": [
    "## Inspect the data and remove the cities where the humidity > 100%.\n",
    "----\n",
    "Skip this step if there are no cities that have humidity > 100%. "
   ]
  },
  {
   "cell_type": "code",
   "execution_count": 107,
   "metadata": {},
   "outputs": [
    {
     "name": "stdout",
     "output_type": "stream",
     "text": [
      "100\n"
     ]
    }
   ],
   "source": [
    "#check if there is humidity over 100\n",
    "maxi=df[\"humidity\"].max()\n",
    "print(maxi)"
   ]
  },
  {
   "cell_type": "code",
   "execution_count": null,
   "metadata": {},
   "outputs": [],
   "source": [
    "#  Get the indices of cities that have humidity over 100%.\n"
   ]
  },
  {
   "cell_type": "code",
   "execution_count": null,
   "metadata": {},
   "outputs": [],
   "source": [
    "# Make a new DataFrame equal to the city data to drop all humidity outliers by index.\n",
    "# Passing \"inplace=False\" will make a copy of the city_data DataFrame, which we call \"clean_city_data\".\n"
   ]
  },
  {
   "cell_type": "code",
   "execution_count": null,
   "metadata": {},
   "outputs": [],
   "source": [
    "\n"
   ]
  },
  {
   "cell_type": "markdown",
   "metadata": {},
   "source": [
    "## Plotting the Data\n",
    "* Use proper labeling of the plots using plot titles (including date of analysis) and axes labels.\n",
    "* Save the plotted figures as .pngs."
   ]
  },
  {
   "cell_type": "markdown",
   "metadata": {},
   "source": [
    "## Latitude vs. Temperature Plot"
   ]
  },
  {
   "cell_type": "code",
   "execution_count": 68,
   "metadata": {
    "scrolled": true
   },
   "outputs": [
    {
     "data": {
      "image/png": "[encoded data removed]",
      "text/plain": [
       "<Figure size 432x288 with 1 Axes>"
      ]
     },
     "metadata": {
      "needs_background": "light"
     },
     "output_type": "display_data"
    },
    {
     "data": {
      "text/plain": [
       "<Figure size 432x288 with 0 Axes>"
      ]
     },
     "metadata": {},
     "output_type": "display_data"
    }
   ],
   "source": [
    "#latitude vs Temperature\n",
    "x_values = df['latitude']\n",
    "y_values = df['temperature']\n",
    "plt.scatter(x_values,y_values)\n",
    "plt.xlabel('Latitude')\n",
    "plt.ylabel('Temperature')\n",
    "plt.show()\n",
    "plt.savefig('temp_lat_scatter.png')"
   ]
  },
  {
   "cell_type": "markdown",
   "metadata": {},
   "source": [
    "#The scatter clearly shows that as we get closer to the Equator the temperature is rsing. "
   ]
  },
  {
   "cell_type": "markdown",
   "metadata": {},
   "source": [
    "## Latitude vs. Humidity Plot"
   ]
  },
  {
   "cell_type": "code",
   "execution_count": 69,
   "metadata": {},
   "outputs": [
    {
     "data": {
      "image/png": "[encoded data removed]",
      "text/plain": [
       "<Figure size 432x288 with 1 Axes>"
      ]
     },
     "metadata": {
      "needs_background": "light"
     },
     "output_type": "display_data"
    },
    {
     "data": {
      "text/plain": [
       "<Figure size 432x288 with 0 Axes>"
      ]
     },
     "metadata": {},
     "output_type": "display_data"
    }
   ],
   "source": [
    "#latitude vs Temperature\n",
    "x_values = df['latitude']\n",
    "y_values = df['humidity']\n",
    "plt.scatter(x_values,y_values)\n",
    "plt.xlabel('Latitude')\n",
    "plt.ylabel('Humidity')\n",
    "plt.show()\n",
    "plt.savefig('humidity_lat_scatter.png')"
   ]
  },
  {
   "cell_type": "markdown",
   "metadata": {},
   "source": [
    "THe sctter shows, different patterns when approching to the equator from the south and from the north:\n",
    "Approching to equator from South shows humidity increases as getting closer to the eqautor, and the reverse for the NH. "
   ]
  },
  {
   "cell_type": "markdown",
   "metadata": {},
   "source": [
    "## Latitude vs. Cloudiness Plot"
   ]
  },
  {
   "cell_type": "code",
   "execution_count": 70,
   "metadata": {},
   "outputs": [
    {
     "data": {
      "image/png": "[encoded data removed]",
      "text/plain": [
       "<Figure size 432x288 with 1 Axes>"
      ]
     },
     "metadata": {
      "needs_background": "light"
     },
     "output_type": "display_data"
    },
    {
     "data": {
      "text/plain": [
       "<Figure size 432x288 with 0 Axes>"
      ]
     },
     "metadata": {},
     "output_type": "display_data"
    }
   ],
   "source": [
    "#latitude vs Temperature\n",
    "x_values = df['latitude']\n",
    "y_values = df['cloudiness']\n",
    "plt.scatter(x_values,y_values)\n",
    "plt.xlabel('Latitude')\n",
    "plt.ylabel('Cloudiness')\n",
    "plt.show()\n",
    "plt.savefig('cloud_lat_scatter.png')"
   ]
  },
  {
   "cell_type": "markdown",
   "metadata": {},
   "source": [
    "## Latitude vs. Wind Speed Plot"
   ]
  },
  {
   "cell_type": "code",
   "execution_count": 108,
   "metadata": {},
   "outputs": [
    {
     "data": {
      "image/png": "[encoded data removed]",
      "text/plain": [
       "<Figure size 432x288 with 1 Axes>"
      ]
     },
     "metadata": {
      "needs_background": "light"
     },
     "output_type": "display_data"
    },
    {
     "data": {
      "text/plain": [
       "<Figure size 432x288 with 0 Axes>"
      ]
     },
     "metadata": {},
     "output_type": "display_data"
    }
   ],
   "source": [
    "#latitude vs Wind Speed\n",
    "x_values = df['latitude']\n",
    "y_values = df['wind_speed']\n",
    "plt.scatter(x_values,y_values)\n",
    "plt.xlabel('Latitude')\n",
    "plt.ylabel('Wind Speed')\n",
    "plt.show()\n",
    "plt.savefig('wind_lat_scatter.png')"
   ]
  },
  {
   "cell_type": "markdown",
   "metadata": {},
   "source": [
    "## Linear Regression"
   ]
  },
  {
   "cell_type": "code",
   "execution_count": 75,
   "metadata": {},
   "outputs": [
    {
     "data": {
      "text/html": [
       "<div>\n",
       "<style scoped>\n",
       "    .dataframe tbody tr th:only-of-type {\n",
       "        vertical-align: middle;\n",
       "    }\n",
       "\n",
       "    .dataframe tbody tr th {\n",
       "        vertical-align: top;\n",
       "    }\n",
       "\n",
       "    .dataframe thead th {\n",
       "        text-align: right;\n",
       "    }\n",
       "</style>\n",
       "<table border=\"1\" class=\"dataframe\">\n",
       "  <thead>\n",
       "    <tr style=\"text-align: right;\">\n",
       "      <th></th>\n",
       "      <th>city_name</th>\n",
       "      <th>temperature</th>\n",
       "      <th>humidity</th>\n",
       "      <th>wind_speed</th>\n",
       "      <th>cloudiness</th>\n",
       "      <th>latitude</th>\n",
       "    </tr>\n",
       "  </thead>\n",
       "  <tbody>\n",
       "    <tr>\n",
       "      <th>0</th>\n",
       "      <td>Umluj</td>\n",
       "      <td>302.15</td>\n",
       "      <td>54</td>\n",
       "      <td>3.12</td>\n",
       "      <td>0</td>\n",
       "      <td>25.0213</td>\n",
       "    </tr>\n",
       "    <tr>\n",
       "      <th>1</th>\n",
       "      <td>Jieshou</td>\n",
       "      <td>285.96</td>\n",
       "      <td>71</td>\n",
       "      <td>0.77</td>\n",
       "      <td>71</td>\n",
       "      <td>33.2634</td>\n",
       "    </tr>\n",
       "    <tr>\n",
       "      <th>2</th>\n",
       "      <td>Balabac</td>\n",
       "      <td>300.86</td>\n",
       "      <td>78</td>\n",
       "      <td>4.69</td>\n",
       "      <td>100</td>\n",
       "      <td>7.9868</td>\n",
       "    </tr>\n",
       "    <tr>\n",
       "      <th>3</th>\n",
       "      <td>Marawi</td>\n",
       "      <td>297.04</td>\n",
       "      <td>93</td>\n",
       "      <td>1.79</td>\n",
       "      <td>99</td>\n",
       "      <td>7.9986</td>\n",
       "    </tr>\n",
       "    <tr>\n",
       "      <th>4</th>\n",
       "      <td>Shenjiamen</td>\n",
       "      <td>292.18</td>\n",
       "      <td>61</td>\n",
       "      <td>4.88</td>\n",
       "      <td>100</td>\n",
       "      <td>29.9576</td>\n",
       "    </tr>\n",
       "  </tbody>\n",
       "</table>\n",
       "</div>"
      ],
      "text/plain": [
       "    city_name  temperature  humidity  wind_speed  cloudiness  latitude\n",
       "0       Umluj       302.15        54        3.12           0   25.0213\n",
       "1     Jieshou       285.96        71        0.77          71   33.2634\n",
       "2     Balabac       300.86        78        4.69         100    7.9868\n",
       "3      Marawi       297.04        93        1.79          99    7.9986\n",
       "4  Shenjiamen       292.18        61        4.88         100   29.9576"
      ]
     },
     "execution_count": 75,
     "metadata": {},
     "output_type": "execute_result"
    }
   ],
   "source": [
    "#data for linear regression-Northern Hemisphere lat>0\n",
    "dfnh=df.loc[(df[\"latitude\"]>=0)]\n",
    "#data for linear regression-Southern Hemisphere lat<0\n",
    "dfsh=df.loc[(df[\"latitude\"]<0)]"
   ]
  },
  {
   "cell_type": "markdown",
   "metadata": {},
   "source": [
    "####  Northern Hemisphere - Max Temp vs. Latitude Linear Regression"
   ]
  },
  {
   "cell_type": "code",
   "execution_count": 87,
   "metadata": {},
   "outputs": [
    {
     "name": "stdout",
     "output_type": "stream",
     "text": [
      "y = -0.51x +304.99\n",
      "The r-value is: 0.7735468208503882\n"
     ]
    },
    {
     "name": "stderr",
     "output_type": "stream",
     "text": [
      "C:\\Users\\arpib\\anaconda3\\envs\\PythonData\\lib\\site-packages\\ipykernel_launcher.py:23: UserWarning: Tight layout not applied. The bottom and top margins cannot be made large enough to accommodate all axes decorations. \n"
     ]
    },
    {
     "data": {
      "image/png": "[encoded data removed]",
      "text/plain": [
       "<Figure size 432x288 with 1 Axes>"
      ]
     },
     "metadata": {
      "needs_background": "light"
     },
     "output_type": "display_data"
    }
   ],
   "source": [
    "y_val=dfnh[\"temperature\"]\n",
    "x_val=dfnh[\"latitude\"]\n",
    "# Perform a linear regression on temperature vs. latitude\n",
    "(slope, intercept, rvalue, pvalue, stderr) = stats.linregress(x_val, y_val)\n",
    "\n",
    "# Get regression values\n",
    "regress_values = x_val * slope + intercept\n",
    "# Create line equation string\n",
    "line_eq = \"y = \" + str(round(slope,2)) + \"x +\" + str(round(intercept,2))\n",
    "print(line_eq)\n",
    "\n",
    "# Create Plot\n",
    "plt.scatter(x_val,y_val)\n",
    "plt.plot(x_val,regress_values,\"r-\")\n",
    "\n",
    "# Label plot and annotate the line equation\n",
    "plt.xlabel('Latitude North H')\n",
    "plt.ylabel('Temperature')\n",
    "plt.annotate(line_eq,(20,15),fontsize=15,color=\"red\")\n",
    "\n",
    "# Print r value\n",
    "print(f\"The r-value is: {rvalue**2}\")\n",
    "\n",
    "# Show plot\n",
    "plt.show()"
   ]
  },
  {
   "cell_type": "markdown",
   "metadata": {},
   "source": [
    "####  Southern Hemisphere - Max Temp vs. Latitude Linear Regression"
   ]
  },
  {
   "cell_type": "code",
   "execution_count": 86,
   "metadata": {},
   "outputs": [
    {
     "name": "stdout",
     "output_type": "stream",
     "text": [
      "y = 0.29x +304.09\n",
      "The r-value is: 0.27888990741390446\n"
     ]
    },
    {
     "data": {
      "image/png": "[encoded data removed]",
      "text/plain": [
       "<Figure size 432x288 with 1 Axes>"
      ]
     },
     "metadata": {
      "needs_background": "light"
     },
     "output_type": "display_data"
    }
   ],
   "source": [
    "#Southern Hemisphere-Southern Hemisphere - Max Temp vs. Latitude Linear Regression\n",
    "y_val=dfsh[\"temperature\"]\n",
    "x_val=dfsh[\"latitude\"]\n",
    "# Perform a linear regression on temperature vs. latitude\n",
    "(slope, intercept, rvalue, pvalue, stderr) = stats.linregress(x_val, y_val)\n",
    "\n",
    "# Get regression values\n",
    "regress_values = x_val * slope + intercept\n",
    "# Create line equation string\n",
    "line_eq = \"y = \" + str(round(slope,2)) + \"x +\" + str(round(intercept,2))\n",
    "print(line_eq)\n",
    "\n",
    "# Create Plot\n",
    "plt.scatter(x_val,y_val)\n",
    "plt.plot(x_val,regress_values,\"r-\")\n",
    "\n",
    "# Label plot and annotate the line equation\n",
    "plt.xlabel('Latitude South H')\n",
    "plt.ylabel('Temperature')\n",
    "plt.annotate(line_eq,(20,15),fontsize=15,color=\"red\")\n",
    "\n",
    "# Print r value\n",
    "print(f\"The r-value is: {rvalue**2}\")\n",
    "\n",
    "# Show plot\n",
    "plt.show()"
   ]
  },
  {
   "cell_type": "markdown",
   "metadata": {},
   "source": [
    "####  Northern Hemisphere - Humidity (%) vs. Latitude Linear Regression"
   ]
  },
  {
   "cell_type": "code",
   "execution_count": 92,
   "metadata": {},
   "outputs": [
    {
     "name": "stdout",
     "output_type": "stream",
     "text": [
      "y = 0.24x +64.97\n",
      "The r-value is: 0.046606703040009585\n"
     ]
    },
    {
     "data": {
      "image/png": "[encoded data removed]",
      "text/plain": [
       "<Figure size 432x288 with 1 Axes>"
      ]
     },
     "metadata": {
      "needs_background": "light"
     },
     "output_type": "display_data"
    }
   ],
   "source": [
    "#Northern Hemisphere - Humidity (%) vs. Latitude Linear Regression\n",
    "y_val=dfnh[\"humidity\"]\n",
    "x_val=dfnh[\"latitude\"]\n",
    "# Perform a linear regression on temperature vs. latitude\n",
    "(slope, intercept, rvalue, pvalue, stderr) = stats.linregress(x_val, y_val)\n",
    "\n",
    "# Get regression values\n",
    "regress_values = x_val * slope + intercept\n",
    "# Create line equation string\n",
    "line_eq = \"y = \" + str(round(slope,2)) + \"x +\" + str(round(intercept,2))\n",
    "print(line_eq)\n",
    "\n",
    "# Create Plot\n",
    "plt.scatter(x_val,y_val)\n",
    "plt.plot(x_val,regress_values,\"r-\")\n",
    "\n",
    "# Label plot and annotate the line equation\n",
    "plt.xlabel('Latitude North H')\n",
    "plt.ylabel('Humidity')\n",
    "plt.annotate(line_eq,(20,15),fontsize=15,color=\"red\")\n",
    "# Print r value\n",
    "print(f\"The r-value is: {rvalue**2}\")\n",
    "# Show plot\n",
    "plt.show()"
   ]
  },
  {
   "cell_type": "markdown",
   "metadata": {},
   "source": [
    "####  Southern Hemisphere - Humidity (%) vs. Latitude Linear Regression"
   ]
  },
  {
   "cell_type": "code",
   "execution_count": 91,
   "metadata": {},
   "outputs": [
    {
     "name": "stdout",
     "output_type": "stream",
     "text": [
      "y = 0.2x +63.48\n",
      "The r-value is: 0.01852768566969043\n"
     ]
    },
    {
     "data": {
      "image/png": "[encoded data removed]",
      "text/plain": [
       "<Figure size 432x288 with 1 Axes>"
      ]
     },
     "metadata": {
      "needs_background": "light"
     },
     "output_type": "display_data"
    }
   ],
   "source": [
    "#Southern Hemisphere - Humidity (%) vs. Latitude Linear Regression\n",
    "y_val=dfsh[\"humidity\"]\n",
    "x_val=dfsh[\"latitude\"]\n",
    "# Perform a linear regression on temperature vs. latitude\n",
    "(slope, intercept, rvalue, pvalue, stderr) = stats.linregress(x_val, y_val)\n",
    "\n",
    "# Get regression values\n",
    "regress_values = x_val * slope + intercept\n",
    "# Create line equation string\n",
    "line_eq = \"y = \" + str(round(slope,2)) + \"x +\" + str(round(intercept,2))\n",
    "print(line_eq)\n",
    "\n",
    "# Create Plot\n",
    "plt.scatter(x_val,y_val)\n",
    "plt.plot(x_val,regress_values,\"r-\")\n",
    "\n",
    "# Label plot and annotate the line equation\n",
    "plt.xlabel('Latitude South H')\n",
    "plt.ylabel('Humidity')\n",
    "plt.annotate(line_eq,(20,15),fontsize=15,color=\"red\")\n",
    "# Print r value\n",
    "print(f\"The r-value is: {rvalue**2}\")\n",
    "# Show plot\n",
    "plt.show()"
   ]
  },
  {
   "cell_type": "markdown",
   "metadata": {},
   "source": [
    "####  Northern Hemisphere - Cloudiness (%) vs. Latitude Linear Regression"
   ]
  },
  {
   "cell_type": "code",
   "execution_count": 90,
   "metadata": {},
   "outputs": [
    {
     "name": "stdout",
     "output_type": "stream",
     "text": [
      "y = 0.23x +43.44\n",
      "The r-value is: 0.012401905842565227\n"
     ]
    },
    {
     "data": {
      "image/png": "[encoded data removed]",
      "text/plain": [
       "<Figure size 432x288 with 1 Axes>"
      ]
     },
     "metadata": {
      "needs_background": "light"
     },
     "output_type": "display_data"
    }
   ],
   "source": [
    "#Northern Hemisphere - Cloudiness (%) vs. Latitude Linear Regression\n",
    "y_val=dfnh[\"cloudiness\"]\n",
    "x_val=dfnh[\"latitude\"]\n",
    "# Perform a linear regression on temperature vs. latitude\n",
    "(slope, intercept, rvalue, pvalue, stderr) = stats.linregress(x_val, y_val)\n",
    "\n",
    "# Get regression values\n",
    "regress_values = x_val * slope + intercept\n",
    "# Create line equation string\n",
    "line_eq = \"y = \" + str(round(slope,2)) + \"x +\" + str(round(intercept,2))\n",
    "print(line_eq)\n",
    "\n",
    "# Create Plot\n",
    "plt.scatter(x_val,y_val)\n",
    "plt.plot(x_val,regress_values,\"r-\")\n",
    "\n",
    "# Label plot and annotate the line equation\n",
    "plt.xlabel('Latitude North H')\n",
    "plt.ylabel('Cloudiness')\n",
    "plt.annotate(line_eq,(20,15),fontsize=15,color=\"red\")\n",
    "# Print r value\n",
    "print(f\"The r-value is: {rvalue**2}\")\n",
    "# Show plot\n",
    "plt.show()"
   ]
  },
  {
   "cell_type": "markdown",
   "metadata": {},
   "source": [
    "####  Southern Hemisphere - Cloudiness (%) vs. Latitude Linear Regression"
   ]
  },
  {
   "cell_type": "code",
   "execution_count": 93,
   "metadata": {},
   "outputs": [
    {
     "name": "stdout",
     "output_type": "stream",
     "text": [
      "y = 0.7x +68.63\n",
      "The r-value is: 0.06736114421873576\n"
     ]
    },
    {
     "data": {
      "image/png": "[encoded data removed]",
      "text/plain": [
       "<Figure size 432x288 with 1 Axes>"
      ]
     },
     "metadata": {
      "needs_background": "light"
     },
     "output_type": "display_data"
    }
   ],
   "source": [
    "#Southern Hemisphere - Cloudiness (%) vs. Latitude Linear Regression\n",
    "y_val=dfsh[\"cloudiness\"]\n",
    "x_val=dfsh[\"latitude\"]\n",
    "# Perform a linear regression on temperature vs. latitude\n",
    "(slope, intercept, rvalue, pvalue, stderr) = stats.linregress(x_val, y_val)\n",
    "\n",
    "# Get regression values\n",
    "regress_values = x_val * slope + intercept\n",
    "# Create line equation string\n",
    "line_eq = \"y = \" + str(round(slope,2)) + \"x +\" + str(round(intercept,2))\n",
    "print(line_eq)\n",
    "\n",
    "# Create Plot\n",
    "plt.scatter(x_val,y_val)\n",
    "plt.plot(x_val,regress_values,\"r-\")\n",
    "\n",
    "# Label plot and annotate the line equation\n",
    "plt.xlabel('Latitude South H')\n",
    "plt.ylabel('Cloudiness')\n",
    "plt.annotate(line_eq,(20,15),fontsize=15,color=\"red\")\n",
    "# Print r value\n",
    "print(f\"The r-value is: {rvalue**2}\")\n",
    "# Show plot\n",
    "plt.show()"
   ]
  },
  {
   "cell_type": "markdown",
   "metadata": {},
   "source": [
    "####  Northern Hemisphere - Wind Speed (mph) vs. Latitude Linear Regression"
   ]
  },
  {
   "cell_type": "code",
   "execution_count": 95,
   "metadata": {},
   "outputs": [
    {
     "name": "stdout",
     "output_type": "stream",
     "text": [
      "y = 0.03x +2.18\n",
      "The r-value is: 0.059793682705503996\n"
     ]
    },
    {
     "data": {
      "image/png": "[encoded data removed]",
      "text/plain": [
       "<Figure size 432x288 with 1 Axes>"
      ]
     },
     "metadata": {
      "needs_background": "light"
     },
     "output_type": "display_data"
    }
   ],
   "source": [
    "#Northern Hemisphere - Wind Speed (mph) vs. Latitude Linear Regression\n",
    "y_val=dfnh[\"wind_speed\"]\n",
    "x_val=dfnh[\"latitude\"]\n",
    "# Perform a linear regression on temperature vs. latitude\n",
    "(slope, intercept, rvalue, pvalue, stderr) = stats.linregress(x_val, y_val)\n",
    "\n",
    "# Get regression values\n",
    "regress_values = x_val * slope + intercept\n",
    "# Create line equation string\n",
    "line_eq = \"y = \" + str(round(slope,2)) + \"x +\" + str(round(intercept,2))\n",
    "print(line_eq)\n",
    "\n",
    "# Create Plot\n",
    "plt.scatter(x_val,y_val)\n",
    "plt.plot(x_val,regress_values,\"r-\")\n",
    "\n",
    "# Label plot and annotate the line equation\n",
    "plt.xlabel('Latitude North H')\n",
    "plt.ylabel('Wind Speed MPH')\n",
    "plt.annotate(line_eq,(20,15),fontsize=15,color=\"red\")\n",
    "# Print r value\n",
    "print(f\"The r-value is: {rvalue**2}\")\n",
    "# Show plot\n",
    "plt.show()"
   ]
  },
  {
   "cell_type": "markdown",
   "metadata": {},
   "source": [
    "####  Southern Hemisphere - Wind Speed (mph) vs. Latitude Linear Regression"
   ]
  },
  {
   "cell_type": "code",
   "execution_count": 96,
   "metadata": {},
   "outputs": [
    {
     "name": "stdout",
     "output_type": "stream",
     "text": [
      "y = -0.06x +3.35\n",
      "The r-value is: 0.0875781527146055\n"
     ]
    },
    {
     "data": {
      "image/png": "[encoded data removed]",
      "text/plain": [
       "<Figure size 432x288 with 1 Axes>"
      ]
     },
     "metadata": {
      "needs_background": "light"
     },
     "output_type": "display_data"
    }
   ],
   "source": [
    "#Southern Hemisphere - Wind Speed (mph) vs. Latitude Linear Regression\n",
    "y_val=dfsh[\"wind_speed\"]\n",
    "x_val=dfsh[\"latitude\"]\n",
    "# Perform a linear regression on temperature vs. latitude\n",
    "(slope, intercept, rvalue, pvalue, stderr) = stats.linregress(x_val, y_val)\n",
    "\n",
    "# Get regression values\n",
    "regress_values = x_val * slope + intercept\n",
    "# Create line equation string\n",
    "line_eq = \"y = \" + str(round(slope,2)) + \"x +\" + str(round(intercept,2))\n",
    "print(line_eq)\n",
    "\n",
    "# Create Plot\n",
    "plt.scatter(x_val,y_val)\n",
    "plt.plot(x_val,regress_values,\"r-\")\n",
    "\n",
    "# Label plot and annotate the line equation\n",
    "plt.xlabel('Latitude South H')\n",
    "plt.ylabel('Wind Speed MPH')\n",
    "plt.annotate(line_eq,(20,15),fontsize=15,color=\"red\")\n",
    "# Print r value\n",
    "print(f\"The r-value is: {rvalue**2}\")\n",
    "# Show plot\n",
    "plt.show()"
   ]
  },
  {
   "cell_type": "code",
   "execution_count": null,
   "metadata": {},
   "outputs": [],
   "source": []
  }
 ],
 "metadata": {
  "anaconda-cloud": {},
  "kernel_info": {
   "name": "python3"
  },
  "kernelspec": {
   "display_name": "Python 3",
   "language": "python",
   "name": "python3"
  },
  "language_info": {
   "codemirror_mode": {
    "name": "ipython",
    "version": 3
   },
   "file_extension": ".py",
   "mimetype": "text/x-python",
   "name": "python",
   "nbconvert_exporter": "python",
   "pygments_lexer": "ipython3",
   "version": "3.6.12"
  },
  "latex_envs": {
   "LaTeX_envs_menu_present": true,
   "autoclose": false,
   "autocomplete": true,
   "bibliofile": "biblio.bib",
   "cite_by": "apalike",
   "current_citInitial": 1,
   "eqLabelWithNumbers": true,
   "eqNumInitial": 1,
   "hotkeys": {
    "equation": "Ctrl-E",
    "itemize": "Ctrl-I"
   },
   "labels_anchors": false,
   "latex_user_defs": false,
   "report_style_numbering": false,
   "user_envs_cfg": false
  },
  "nteract": {
   "version": "0.12.3"
  }
 },
 "nbformat": 4,
 "nbformat_minor": 2
}
